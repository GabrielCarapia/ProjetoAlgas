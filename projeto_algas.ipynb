{
 "cells": [
  {
   "cell_type": "code",
   "execution_count": 5,
   "metadata": {},
   "outputs": [],
   "source": [
    "import time \n",
    "from sys import getsizeof\n",
    "import random\n",
    "\n",
    "\n",
    "def calcula_porc_o2(n):\n",
    "    for i in n:\n",
    "        print(i)\n",
    "        a = random.randint(80, 100)\n",
    "        print(a)\n",
    "\n",
    "l1 = []\n",
    "l2 = []\n",
    "\n",
    "for n in range(1000, 1, 1000):\n",
    "    data = 'x' * n \n",
    "    b = data\n",
    "    calcula_porc_o2(1000)\n",
    "    #print(b)\n",
    "    start = time.time()\n",
    "    max_mem= 0\n",
    "    min_mem = 0\n",
    "    while b:\n",
    "        if n == len(b):\n",
    "            max_mem = getsizeof(b) - getsizeof('')\n",
    "        elif len(b) == 1:\n",
    "            min_mem = getsizeof(b) - getsizeof('')\n",
    "        b = b[1:]\n",
    "    stop = time.time()\n",
    "    print('Valor {n} {stop-start} - Max mem {max_mem/10**3} Kb - Min mem {min_mem} B')\n",
    "    l1.append(stop-start)\n",
    "\n",
    "for n in range(2000, 1, 2000):\n",
    "    data = 'x' * n \n",
    "    b = data\n",
    "    #print(b)\n",
    "    start = time.time()\n",
    "    max_mem= 0\n",
    "    min_mem = 0\n",
    "    while b:\n",
    "        if n == len(b):\n",
    "            max_mem = getsizeof(b) - getsizeof('')\n",
    "        elif len(b) == 1:\n",
    "            min_mem = getsizeof(b) - getsizeof('')\n",
    "        b = b[1:]\n",
    "    stop = time.time()\n",
    "    print('Valor {n} {stop-start} - Max mem {max_mem/10**3} Kb - Min mem {min_mem} B')\n",
    "    l2.append(stop-start)"
   ]
  },
  {
   "cell_type": "code",
   "execution_count": null,
   "metadata": {},
   "outputs": [],
   "source": [
    "import dis\n",
    "import timeit\n",
    "\n",
    "def sum1():\n",
    "    s = 0\n",
    "    for i in range(1000000):\n",
    "        s += i\n",
    "    return s\n",
    "print('For Loop Sum:', timeit.timeit(sum1, number=2))\n",
    "dis.dis(sum1)\n",
    "\n",
    "\n",
    "def sum2():\n",
    "    return sum(range(1000000))\n",
    "dis.dis(sum2)\n",
    "print('Function Sum:', timeit.timeit(sum2, number=2))"
   ]
  },
  {
   "cell_type": "code",
   "execution_count": null,
   "metadata": {},
   "outputs": [],
   "source": [
    "import timeit\n",
    "\n",
    "def sum1():\n",
    "    s = 0\n",
    "    for i in range(1000000):\n",
    "        s += i\n",
    "    #print s    \n",
    "    return s\n",
    "\n",
    "def sum2():\n",
    "\n",
    "    return sum(range(1000000))\n",
    "\n",
    "def sum3():\n",
    "    s = range(1000000)\n",
    "    s = ((s[1]+s[-1])/2) * (len(s)-1)\n",
    "    #print(s)\n",
    "    return s\n",
    "\n",
    "print ('For Loop Sum:', timeit.timeit(sum1, number=10))\n",
    "print ('Function Sum:', timeit.timeit(sum2, number=10))\n",
    "print ('Fast Sum:', timeit.timeit(sum3, number=10))"
   ]
  },
  {
   "cell_type": "code",
   "execution_count": null,
   "metadata": {},
   "outputs": [],
   "source": [
    "# Função para imprimir soma e carregar - MEIO SOMADOR\n",
    "def getResult(A, B):\n",
    "    \n",
    "    # Cálculo da soma\n",
    "    Sum = A ^ B\n",
    "    \n",
    "    # Calculado o valor do carry\n",
    "    Carry = A & B\n",
    "    \n",
    "    # imprimindo os calores\n",
    "    print(\"Sum \", Sum)\n",
    "    print(\"Carry\", Carry)\n",
    "\n",
    "\n",
    "# Código binário\n",
    "A = 1\n",
    "B = 1\n",
    "\n",
    "# passando duas entradas de halfadder como argumentos para obter a função de resultado\n",
    "getResult(A, B)"
   ]
  }
 ],
 "metadata": {
  "kernelspec": {
   "display_name": "Python 3",
   "language": "python",
   "name": "python3"
  },
  "language_info": {
   "codemirror_mode": {
    "name": "ipython",
    "version": 3
   },
   "file_extension": ".py",
   "mimetype": "text/x-python",
   "name": "python",
   "nbconvert_exporter": "python",
   "pygments_lexer": "ipython3",
   "version": "3.10.10"
  },
  "orig_nbformat": 4,
  "vscode": {
   "interpreter": {
    "hash": "0f2b5b674c19d182f1de556b56b3f910b1a3ac4816f02001428aab2e6cb2590c"
   }
  }
 },
 "nbformat": 4,
 "nbformat_minor": 2
}
